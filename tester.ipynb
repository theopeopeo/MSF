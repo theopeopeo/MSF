{
 "cells": [
  {
   "cell_type": "code",
   "execution_count": null,
   "metadata": {},
   "outputs": [
    {
     "name": "stdout",
     "output_type": "stream",
     "text": [
      "Reading: data/Cleaned_Portail_Part_1.xlsx\n",
      "Reading: data/Cleaned_Portail_Part_2.xlsx\n",
      "Reading: data/Cleaned_Portail_Part_3.xlsx\n",
      "Reading: data/Cleaned_Portail_Part_4.xlsx\n",
      "Reading: data/Cleaned_Portail_Part_5.xlsx\n",
      "Reading: data/Cleaned_Portail_Part_6.xlsx\n",
      "Reading: data/Cleaned_Portail_Part_7.xlsx\n",
      "Merged DataFrame shape: (262636, 54)\n"
     ]
    }
   ],
   "source": [
    "import pandas as pd\n",
    "import os\n",
    "\n",
    "# Folder and output setup\n",
    "data_folder = 'data/'\n",
    "output_file = 'mergedportail.xlsx'\n",
    "\n",
    "# ✅ List of columns you want to keep\n",
    "columns_to_keep = [\n",
    "    \"order_oc_id\", \"customer_id\", \"project_id\", \"country_of_delivery\", \"supply_center_id\",\n",
    "    \"order_type\", \"direct_delivery\", \"warehouse_id\", \"country_of_origin\", \"order_priority_type\",\n",
    "    \"order_id\", \"order_line_id\", \"product_id\", \"version_id\", \"product_name\", \"product_type\",\n",
    "    \"product_group\", \"product_family\", \"product_cat\", \"product_batch_no\", \"shelf_life\",\n",
    "    \"expiry_date\", \"packing_id\", \"packing_line_id\", \"shipment_id\", \"transaction_type\",\n",
    "    \"dispatch_address\", \"product_assortment\", \"unit_price\", \"unit_price_assortment\",\n",
    "    \"quantity_ordered\", \"quantity_packed\", \"quantity_received\", \"quantity_invoiced\",\n",
    "    \"invoice_id\", \"invoice_date\", \"volume\", \"weight\", \"unit_volume\", \"unit_weight\", \"confirmed_amount\", \"invoiced_amount\",\n",
    "    \"actual_delivery_date\", \"accounting_code\", \"order_description\", \"order_completion\", \"Total_LeadTime\",\n",
    "    \"order_weight_kg\", \"order_volume_dm3\", \"order_volume_m3\", \"price_orderline\",\n",
    "    \"unique_order_code\", \"unique_shipment_code\", \"unique_backorder_code\"\n",
    "]\n",
    "\n",
    "# Initialize the DataFrame list\n",
    "df_list = []\n",
    "\n",
    "# Loop through files (skip the output file if re-running)\n",
    "for file in os.listdir(data_folder):\n",
    "    if file.endswith('.xlsx') and file != output_file:\n",
    "        file_path = os.path.join(data_folder, file)\n",
    "        print(f\"Reading: {file_path}\")\n",
    "        df = pd.read_excel(file_path, usecols=columns_to_keep, engine='openpyxl')  # 🚀 Speed up with explicit engine\n",
    "        df_list.append(df)\n",
    "\n",
    "# Merge all filtered DataFrames\n",
    "if df_list:\n",
    "    merged_df = pd.concat(df_list, ignore_index=True)\n",
    "    print(f\"Merged DataFrame shape: {merged_df.shape}\")\n",
    "else:\n",
    "    merged_df = pd.DataFrame()\n",
    "    print(\"No data found to merge.\")\n",
    "\n",
    "# ✅ (Optional) Save if needed\n",
    "# merged_df.to_excel(os.path.join(data_folder, output_file), index=False)\n",
    "\n",
    "merged_df.head()\n",
    "\n"
   ]
  }
 ],
 "metadata": {
  "kernelspec": {
   "display_name": "Python 3",
   "language": "python",
   "name": "python3"
  },
  "language_info": {
   "codemirror_mode": {
    "name": "ipython",
    "version": 3
   },
   "file_extension": ".py",
   "mimetype": "text/x-python",
   "name": "python",
   "nbconvert_exporter": "python",
   "pygments_lexer": "ipython3",
   "version": "3.12.2"
  }
 },
 "nbformat": 4,
 "nbformat_minor": 2
}
